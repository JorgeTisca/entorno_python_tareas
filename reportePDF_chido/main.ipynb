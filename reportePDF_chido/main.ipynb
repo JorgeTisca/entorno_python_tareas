{
 "cells": [
  {
   "cell_type": "code",
   "execution_count": 13,
   "metadata": {},
   "outputs": [],
   "source": [
    "from firebird.bdFirebird import conexion\n",
    "\n",
    "periodo = \"2124\"\n",
    "\n",
    "\n",
    "retenciones = conexion.consulta(\n",
    "    f\"SELECT * FROM pension_nomina_retencion_report('{periodo}')\"\n",
    ")\n",
    "\n",
    "\n"
   ]
  },
  {
   "cell_type": "code",
   "execution_count": 14,
   "metadata": {},
   "outputs": [
    {
     "name": "stdout",
     "output_type": "stream",
     "text": [
      "[{'INTERNO': 1130, 'RFC': 'AACM690319SC4', 'FULLNAME': 'ARMAS CAMPA MAURICIO', 'QNAINICIO': '0523', 'FECINICIO': datetime.date(2023, 3, 9), 'T_IMPORTE': Decimal('0'), 'NUM_QNAS': 42, 'PAGO': 'R', 'SPERIODO': '2124'}, {'INTERNO': 2318, 'RFC': 'AOAI460718', 'FULLNAME': 'ACOSTA ALVAREZ MA. ISABEL', 'QNAINICIO': '0523', 'FECINICIO': datetime.date(2023, 3, 9), 'T_IMPORTE': Decimal('67957.78'), 'NUM_QNAS': 42, 'PAGO': 'R', 'SPERIODO': '2124'}, {'INTERNO': 4668, 'RFC': 'CART5406127R2', 'FULLNAME': 'CAMPA RODRIGUEZ MA TERESA ', 'QNAINICIO': '0520', 'FECINICIO': datetime.date(2020, 3, 6), 'T_IMPORTE': Decimal('255438.28'), 'NUM_QNAS': 114, 'PAGO': 'R', 'SPERIODO': '2124'}, {'INTERNO': 6199, 'RFC': 'DERM520616IS8', 'FULLNAME': 'DELGADO ROBLES MA. MARISOL', 'QNAINICIO': '2024', 'FECINICIO': datetime.date(2024, 10, 24), 'T_IMPORTE': Decimal('12007.76'), 'NUM_QNAS': 3, 'PAGO': 'R', 'SPERIODO': '2124'}, {'INTERNO': 7332, 'RFC': 'EARF200318720', 'FULLNAME': 'ESTRADA ROMO FELIPE', 'QNAINICIO': '0524', 'FECINICIO': datetime.date(2024, 3, 7), 'T_IMPORTE': Decimal('75718.57'), 'NUM_QNAS': 18, 'PAGO': 'R', 'SPERIODO': '2124'}]\n"
     ]
    }
   ],
   "source": [
    "print(retenciones)"
   ]
  },
  {
   "cell_type": "code",
   "execution_count": 15,
   "metadata": {},
   "outputs": [
    {
     "name": "stdout",
     "output_type": "stream",
     "text": [
      "{'INTERNO': 1130, 'RFC': 'AACM690319SC4', 'FULLNAME': 'ARMAS CAMPA MAURICIO', 'QNAINICIO': '0523', 'FECINICIO': datetime.date(2023, 3, 9), 'T_IMPORTE': Decimal('0'), 'NUM_QNAS': 42, 'PAGO': 'R', 'SPERIODO': '2124'}\n",
      "{'INTERNO': 2318, 'RFC': 'AOAI460718', 'FULLNAME': 'ACOSTA ALVAREZ MA. ISABEL', 'QNAINICIO': '0523', 'FECINICIO': datetime.date(2023, 3, 9), 'T_IMPORTE': Decimal('67957.78'), 'NUM_QNAS': 42, 'PAGO': 'R', 'SPERIODO': '2124'}\n",
      "{'INTERNO': 4668, 'RFC': 'CART5406127R2', 'FULLNAME': 'CAMPA RODRIGUEZ MA TERESA ', 'QNAINICIO': '0520', 'FECINICIO': datetime.date(2020, 3, 6), 'T_IMPORTE': Decimal('255438.28'), 'NUM_QNAS': 114, 'PAGO': 'R', 'SPERIODO': '2124'}\n",
      "{'INTERNO': 6199, 'RFC': 'DERM520616IS8', 'FULLNAME': 'DELGADO ROBLES MA. MARISOL', 'QNAINICIO': '2024', 'FECINICIO': datetime.date(2024, 10, 24), 'T_IMPORTE': Decimal('12007.76'), 'NUM_QNAS': 3, 'PAGO': 'R', 'SPERIODO': '2124'}\n",
      "{'INTERNO': 7332, 'RFC': 'EARF200318720', 'FULLNAME': 'ESTRADA ROMO FELIPE', 'QNAINICIO': '0524', 'FECINICIO': datetime.date(2024, 3, 7), 'T_IMPORTE': Decimal('75718.57'), 'NUM_QNAS': 18, 'PAGO': 'R', 'SPERIODO': '2124'}\n"
     ]
    }
   ],
   "source": [
    "for retencion in retenciones:\n",
    "    print(retencion)"
   ]
  },
  {
   "cell_type": "code",
   "execution_count": 31,
   "metadata": {},
   "outputs": [
    {
     "data": {
      "text/plain": [
       "[[1130,\n",
       "  'AACM690319SC4',\n",
       "  'ARMAS CAMPA MAURICIO',\n",
       "  '0523',\n",
       "  datetime.date(2023, 3, 9),\n",
       "  Decimal('0'),\n",
       "  42],\n",
       " [2318,\n",
       "  'AOAI460718',\n",
       "  'ACOSTA ALVAREZ MA. ISABEL',\n",
       "  '0523',\n",
       "  datetime.date(2023, 3, 9),\n",
       "  Decimal('67957.78'),\n",
       "  42],\n",
       " [4668,\n",
       "  'CART5406127R2',\n",
       "  'CAMPA RODRIGUEZ MA TERESA ',\n",
       "  '0520',\n",
       "  datetime.date(2020, 3, 6),\n",
       "  Decimal('255438.28'),\n",
       "  114],\n",
       " [6199,\n",
       "  'DERM520616IS8',\n",
       "  'DELGADO ROBLES MA. MARISOL',\n",
       "  '2024',\n",
       "  datetime.date(2024, 10, 24),\n",
       "  Decimal('12007.76'),\n",
       "  3],\n",
       " [7332,\n",
       "  'EARF200318720',\n",
       "  'ESTRADA ROMO FELIPE',\n",
       "  '0524',\n",
       "  datetime.date(2024, 3, 7),\n",
       "  Decimal('75718.57'),\n",
       "  18]]"
      ]
     },
     "execution_count": 31,
     "metadata": {},
     "output_type": "execute_result"
    }
   ],
   "source": [
    "listComprehesions = [ list(retencion.values())[0:7]  for retencion in retenciones  ]\n",
    "listComprehesions"
   ]
  }
 ],
 "metadata": {
  "kernelspec": {
   "display_name": "venv",
   "language": "python",
   "name": "python3"
  },
  "language_info": {
   "codemirror_mode": {
    "name": "ipython",
    "version": 3
   },
   "file_extension": ".py",
   "mimetype": "text/x-python",
   "name": "python",
   "nbconvert_exporter": "python",
   "pygments_lexer": "ipython3",
   "version": "3.12.4"
  }
 },
 "nbformat": 4,
 "nbformat_minor": 2
}
